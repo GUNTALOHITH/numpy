{
 "cells": [
  {
   "cell_type": "code",
   "execution_count": null,
   "id": "d0c04d4c-d844-448a-9954-3d186b94f69d",
   "metadata": {},
   "outputs": [],
   "source": [
    "# 1. What is a Python library? Why do we use Python libraries?\n",
    "\n",
    "# 1. **Definition:**\n",
    "#    - A Python library is a collection of pre-written code and functions that provide reusable tools and resources for developers.\n",
    "   \n",
    "# 2. **Functionality:**\n",
    "#    - Libraries offer a set of modules and functions that can be imported into Python scripts to perform specific tasks.\n",
    "  \n",
    "# 3. **Code Reusability:**\n",
    "#    - Libraries save time and effort by allowing developers to leverage existing code, avoiding the need to reinvent the wheel for common tasks.\n",
    "\n",
    "# 4. **Efficiency:**\n",
    "#    - Using libraries can enhance code efficiency, as they are typically optimized and tested for performance and reliability.\n",
    "\n",
    "# 5. **Specialized Capabilities:**\n",
    "#    - Libraries often focus on specific domains or tasks, providing specialized functionality that may be challenging or time-consuming to implement from scratch.\n",
    "\n",
    "# 6. **Community Contribution:**\n",
    "#    - Python libraries are often developed and maintained by a community of programmers, fostering collaboration and knowledge-sharing.\n",
    "\n",
    "# 7. **Enhanced Productivity:**\n",
    "#    - Leveraging libraries allows developers to build on top of well-established and tested components, accelerating the development process.\n",
    "\n",
    "# 8. **Standardization:**\n",
    "#    - Libraries help establish common practices and standards within the Python ecosystem, promoting consistency across different projects and industries."
   ]
  },
  {
   "cell_type": "code",
   "execution_count": null,
   "id": "fb1bd90e-ee8c-4bbe-8a42-07bb8fbdb4d8",
   "metadata": {},
   "outputs": [],
   "source": [
    "# 2. What is the difference between Numpy array and List?\n",
    "\n",
    "\n",
    "# 1. **Data Type:**\n",
    "#    - **List:** Lists in Python can contain elements of different data types.\n",
    "#    - **Numpy Array:** Numpy arrays are homogeneous and contain elements of the same data type.\n",
    "\n",
    "# 2. **Performance:**\n",
    "#    - **List:** Lists are generally slower for numerical operations compared to numpy arrays.\n",
    "#    - **Numpy Array:** Numpy arrays are more efficient for numerical computations due to their fixed data type and contiguous memory allocation.\n",
    "\n",
    "# 3. **Memory Usage:**\n",
    "#    - **List:** Lists consume more memory as they store additional information (type information, references, etc.) for each element.\n",
    "#    - **Numpy Array:** Numpy arrays are more memory-efficient as they store data in a contiguous block and have a fixed data type.\n",
    "\n",
    "# 4. **Functionality:**\n",
    "#    - **List:** Lists offer a variety of general-purpose methods and functionalities.\n",
    "#    - **Numpy Array:** Numpy arrays provide extensive mathematical operations and functions optimized for array operations.\n",
    "\n",
    "# 5. **Syntax:**\n",
    "#    - **List:** Lists are built into the core Python language.\n",
    "#    - **Numpy Array:** Numpy is a separate library, and its arrays need to be imported (`import numpy as np`), and then arrays are created using `np.array()`.\n",
    "\n",
    "# 6. **Ease of Use:**\n",
    "#    - **List:** Lists are generally easier to work with for simple, non-mathematical tasks.\n",
    "#    - **Numpy Array:** Numpy arrays are more suitable for numerical computations and tasks involving large datasets.\n",
    "\n",
    "# 7. **Flexibility:**\n",
    "#    - **List:** Lists offer more flexibility in terms of operations and can contain elements of different types.\n",
    "#    - **Numpy Array:** Numpy arrays are specialized for numerical operations and may not be as versatile as lists for certain tasks."
   ]
  },
  {
   "cell_type": "code",
   "execution_count": 4,
   "id": "70085727-9c27-44e4-92c3-80f6fb782475",
   "metadata": {},
   "outputs": [],
   "source": [
    "# 3. Find the shape, size and dimension of the following array?\n",
    "arr = [[1, 2, 3, 4],\n",
    "      [5, 6, 7, 8],\n",
    "       [9, 10, 11, 12]]"
   ]
  },
  {
   "cell_type": "code",
   "execution_count": 6,
   "id": "db7e8214-e1fe-44f4-8780-0c1433206c47",
   "metadata": {},
   "outputs": [],
   "source": [
    "arr1 = np.array(arr)"
   ]
  },
  {
   "cell_type": "code",
   "execution_count": 8,
   "id": "7ba74c4d-8b24-40cc-9e37-073433e03424",
   "metadata": {},
   "outputs": [
    {
     "data": {
      "text/plain": [
       "(3, 4)"
      ]
     },
     "execution_count": 8,
     "metadata": {},
     "output_type": "execute_result"
    }
   ],
   "source": [
    "arr1.shape"
   ]
  },
  {
   "cell_type": "code",
   "execution_count": 9,
   "id": "6c8cd59e-79e1-4693-99ef-2e6d329a5031",
   "metadata": {},
   "outputs": [
    {
     "data": {
      "text/plain": [
       "12"
      ]
     },
     "execution_count": 9,
     "metadata": {},
     "output_type": "execute_result"
    }
   ],
   "source": [
    "arr1.size"
   ]
  },
  {
   "cell_type": "code",
   "execution_count": 10,
   "id": "15aeaeb0-57d3-44c4-9c0c-e74d5ba70804",
   "metadata": {},
   "outputs": [
    {
     "data": {
      "text/plain": [
       "2"
      ]
     },
     "execution_count": 10,
     "metadata": {},
     "output_type": "execute_result"
    }
   ],
   "source": [
    "arr1.ndim"
   ]
  },
  {
   "cell_type": "code",
   "execution_count": 11,
   "id": "76be4448-1031-41eb-b75a-ea82352657af",
   "metadata": {},
   "outputs": [],
   "source": [
    "# 4. Write python code to access the first row of the following array?\n",
    "arr = [[1, 2, 3, 4],\n",
    "      [5, 6, 7, 8],\n",
    "     [9, 10, 11, 12]]"
   ]
  },
  {
   "cell_type": "code",
   "execution_count": 12,
   "id": "06d4f6a2-dfd1-41e0-b6dd-95c322015d5e",
   "metadata": {},
   "outputs": [],
   "source": [
    "arr1 = np.array(arr)"
   ]
  },
  {
   "cell_type": "code",
   "execution_count": 14,
   "id": "cd9fe974-6d84-46ce-ac3c-8dbde76ecd58",
   "metadata": {},
   "outputs": [
    {
     "data": {
      "text/plain": [
       "array([1, 2, 3, 4])"
      ]
     },
     "execution_count": 14,
     "metadata": {},
     "output_type": "execute_result"
    }
   ],
   "source": [
    "arr1[0]"
   ]
  },
  {
   "cell_type": "code",
   "execution_count": 15,
   "id": "c80071a3-6440-4ff6-a69d-f4ac7b1a73cd",
   "metadata": {},
   "outputs": [],
   "source": [
    "# 5. How do you access the element at the third row and fourth column from the given numpy array?\n",
    "arr = [[1, 2, 3, 4],\n",
    "      [5, 6, 7, 8],\n",
    "     [9, 10, 11, 12]]"
   ]
  },
  {
   "cell_type": "code",
   "execution_count": 16,
   "id": "6e569c3f-b228-459f-82e3-59c105ddc59a",
   "metadata": {},
   "outputs": [],
   "source": [
    "arr1 = np.array(arr)"
   ]
  },
  {
   "cell_type": "code",
   "execution_count": 21,
   "id": "5c80c185-3653-4b6e-9768-9f7bbadfc7ac",
   "metadata": {},
   "outputs": [
    {
     "data": {
      "text/plain": [
       "12"
      ]
     },
     "execution_count": 21,
     "metadata": {},
     "output_type": "execute_result"
    }
   ],
   "source": [
    "arr1[2,3]"
   ]
  },
  {
   "cell_type": "code",
   "execution_count": 22,
   "id": "b29b04a3-6ce9-4f41-9001-5067bbbd1af7",
   "metadata": {},
   "outputs": [],
   "source": [
    "# 6. Write code to extract all odd-indexed elements from the given numpy array?\n",
    "arr = [[1, 2, 3, 4],\n",
    "      [5, 6, 7, 8],\n",
    "      [9, 10, 11, 12]]"
   ]
  },
  {
   "cell_type": "code",
   "execution_count": 23,
   "id": "3b82a39f-c95b-48a5-a996-d7c64d203ff4",
   "metadata": {},
   "outputs": [],
   "source": [
    "arr1 = np.array(arr)"
   ]
  },
  {
   "cell_type": "code",
   "execution_count": 24,
   "id": "3ba84baf-712f-44ed-8e8e-13dbcb269892",
   "metadata": {},
   "outputs": [
    {
     "data": {
      "text/plain": [
       "array([ 1,  3,  5,  7,  9, 11])"
      ]
     },
     "execution_count": 24,
     "metadata": {},
     "output_type": "execute_result"
    }
   ],
   "source": [
    "arr1[arr1 % 2 != 0]"
   ]
  },
  {
   "cell_type": "code",
   "execution_count": 31,
   "id": "342587ca-c6cd-48e1-aeb5-77273d4cf126",
   "metadata": {},
   "outputs": [
    {
     "data": {
      "text/plain": [
       "array([[0.23051739, 0.16707887, 0.48942874],\n",
       "       [0.01137886, 0.11958951, 0.43829645],\n",
       "       [0.11287761, 0.48109975, 0.28155538]])"
      ]
     },
     "execution_count": 31,
     "metadata": {},
     "output_type": "execute_result"
    }
   ],
   "source": [
    "# 7. How can you generate a random 3x3 matrix with values between 0 and 1?\n",
    "\n",
    "arr2 = np.random.rand(3,3)\n",
    "arr2"
   ]
  },
  {
   "cell_type": "code",
   "execution_count": 32,
   "id": "79505598-047b-4a30-9a09-a4db35f94e74",
   "metadata": {},
   "outputs": [
    {
     "data": {
      "text/plain": [
       "numpy.ndarray"
      ]
     },
     "execution_count": 32,
     "metadata": {},
     "output_type": "execute_result"
    }
   ],
   "source": [
    "type(arr2)"
   ]
  },
  {
   "cell_type": "code",
   "execution_count": null,
   "id": "c369b4d7-b8ac-4bbd-82f0-3cdc333d755c",
   "metadata": {},
   "outputs": [],
   "source": [
    "# 8. Describe the difference between np.random.rand and np.random.randn?\n",
    "\n",
    "# The `np.random.rand` and `np.random.randn` functions in NumPy are both used for generating random numbers,\n",
    "# but they differ in terms of the distribution from which the random numbers are drawn:\n",
    "\n",
    "# 1. `np.random.rand`:\n",
    "#    - Generates random numbers from a uniform distribution over the half-open interval [0.0, 1.0).\n",
    "#    - All values in the output array are equally likely to occur.\n",
    "#    - Takes the shape of the array as individual arguments (not as a tuple).\n",
    "\n",
    "\n",
    "# 2. `np.random.randn`:\n",
    "#    - Generates random numbers from a standard normal distribution (mean = 0, standard deviation = 1).\n",
    "#    - Values are more likely to be close to 0, and the distribution follows a bell curve.\n",
    "#    - Takes the shape of the array as individual arguments (not as a tuple).\n",
    "\n"
   ]
  },
  {
   "cell_type": "code",
   "execution_count": 38,
   "id": "5afa7589-2f9c-48c1-9bae-2f35f4d28951",
   "metadata": {},
   "outputs": [],
   "source": [
    "# 9. Write code to increase the dimension of the following array?\n",
    "arr = [[1, 2, 3, 4],\n",
    "      [5, 6, 7, 8],\n",
    "      [9, 10, 11, 12]]"
   ]
  },
  {
   "cell_type": "code",
   "execution_count": 39,
   "id": "6d663da6-70d8-4be6-8eb6-b7b01dbb644f",
   "metadata": {},
   "outputs": [],
   "source": [
    "arr1 = np.array(arr)"
   ]
  },
  {
   "cell_type": "code",
   "execution_count": 52,
   "id": "354c94bb-9d97-4e3a-82db-dfe2860486aa",
   "metadata": {},
   "outputs": [],
   "source": [
    "arr2 = arr1[:,:,np.newaxis]"
   ]
  },
  {
   "cell_type": "code",
   "execution_count": 50,
   "id": "ceebd4d9-01c0-489d-b76f-fc2658b2c2b0",
   "metadata": {},
   "outputs": [
    {
     "data": {
      "text/plain": [
       "array([[[ 1],\n",
       "        [ 2],\n",
       "        [ 3],\n",
       "        [ 4]],\n",
       "\n",
       "       [[ 5],\n",
       "        [ 6],\n",
       "        [ 7],\n",
       "        [ 8]],\n",
       "\n",
       "       [[ 9],\n",
       "        [10],\n",
       "        [11],\n",
       "        [12]]])"
      ]
     },
     "execution_count": 50,
     "metadata": {},
     "output_type": "execute_result"
    }
   ],
   "source": [
    "arr2"
   ]
  },
  {
   "cell_type": "code",
   "execution_count": 51,
   "id": "d39c9517-ec5d-4692-90d0-f2de737b46d3",
   "metadata": {},
   "outputs": [
    {
     "data": {
      "text/plain": [
       "3"
      ]
     },
     "execution_count": 51,
     "metadata": {},
     "output_type": "execute_result"
    }
   ],
   "source": [
    "arr2.ndim"
   ]
  },
  {
   "cell_type": "code",
   "execution_count": 33,
   "id": "c3a9be97-9f44-498b-8e8a-1d314076d4a7",
   "metadata": {},
   "outputs": [],
   "source": [
    "# 10. How to transpose the following array in NumPy?\n",
    "arr= [[1, 2, 3, 4],\n",
    "     [5, 6, 7, 8],\n",
    "     [9, 10, 11, 12]]"
   ]
  },
  {
   "cell_type": "code",
   "execution_count": 34,
   "id": "caabb525-1177-4f1d-a145-24350a029727",
   "metadata": {},
   "outputs": [],
   "source": [
    "arr1 = np.array(arr)"
   ]
  },
  {
   "cell_type": "code",
   "execution_count": 35,
   "id": "c4a1c0a0-0ba3-458c-85c0-2c0954dde564",
   "metadata": {},
   "outputs": [
    {
     "data": {
      "text/plain": [
       "array([[ 1,  5,  9],\n",
       "       [ 2,  6, 10],\n",
       "       [ 3,  7, 11],\n",
       "       [ 4,  8, 12]])"
      ]
     },
     "execution_count": 35,
     "metadata": {},
     "output_type": "execute_result"
    }
   ],
   "source": [
    "arr1.T"
   ]
  },
  {
   "cell_type": "code",
   "execution_count": 54,
   "id": "7017426d-11f5-4f0c-a808-1eb3311e3c2f",
   "metadata": {},
   "outputs": [],
   "source": [
    "# 11. Consider the following matrix:\n",
    "Matrix_A2 = [[1, 2, 3, 4], [5, 6, 7, 8],[9, 10, 11, 12]]\n",
    "Matrix_B2 = [[1, 2, 3, 4] ,[5, 6, 7, 8],[9, 10, 11, 12]]\n",
    "# Perform the following operation using Python1\n",
    "# 1. Index wiSe multiplication\n",
    "#  2.Matix multiplication\n",
    "# 3. Add both the matices\n",
    "# 4. Subtact matix B from A \n",
    "# 5.Divide Matix B by A"
   ]
  },
  {
   "cell_type": "code",
   "execution_count": 55,
   "id": "3bc60f02-8212-41f6-abe5-22da998c7d27",
   "metadata": {},
   "outputs": [],
   "source": [
    "arr1 = np.array(Matrix_A2)\n",
    "arr2 = np.array(Matrix_B2)"
   ]
  },
  {
   "cell_type": "code",
   "execution_count": 59,
   "id": "41f260cb-784d-4d7a-bf7d-7360bd8ed652",
   "metadata": {},
   "outputs": [
    {
     "data": {
      "text/plain": [
       "array([[ 1,  2,  3,  4],\n",
       "       [ 5,  6,  7,  8],\n",
       "       [ 9, 10, 11, 12]])"
      ]
     },
     "execution_count": 59,
     "metadata": {},
     "output_type": "execute_result"
    }
   ],
   "source": [
    "arr1"
   ]
  },
  {
   "cell_type": "code",
   "execution_count": 60,
   "id": "127d573f-991b-45c2-abf6-ef24212a422c",
   "metadata": {},
   "outputs": [
    {
     "data": {
      "text/plain": [
       "array([[ 1,  2,  3,  4],\n",
       "       [ 5,  6,  7,  8],\n",
       "       [ 9, 10, 11, 12]])"
      ]
     },
     "execution_count": 60,
     "metadata": {},
     "output_type": "execute_result"
    }
   ],
   "source": [
    "arr2"
   ]
  },
  {
   "cell_type": "code",
   "execution_count": 56,
   "id": "74151e7a-23be-42fe-a11a-8d6ebba3a4dc",
   "metadata": {},
   "outputs": [
    {
     "data": {
      "text/plain": [
       "array([[  1,   4,   9,  16],\n",
       "       [ 25,  36,  49,  64],\n",
       "       [ 81, 100, 121, 144]])"
      ]
     },
     "execution_count": 56,
     "metadata": {},
     "output_type": "execute_result"
    }
   ],
   "source": [
    "arr1 * arr2 # 1.Index wise multiplication"
   ]
  },
  {
   "cell_type": "code",
   "execution_count": null,
   "id": "a5c5c6cf-c9b3-4ff8-8cc4-4bc64e32c203",
   "metadata": {},
   "outputs": [],
   "source": [
    "arr1@arr2 #2.matrix multiplication is not possible because of same order (n,k),(k,m)->(n,m)"
   ]
  },
  {
   "cell_type": "code",
   "execution_count": 65,
   "id": "f9480c08-b7a5-4511-897c-18cb8e6c50f8",
   "metadata": {},
   "outputs": [
    {
     "data": {
      "text/plain": [
       "array([[ 30,  70, 110],\n",
       "       [ 70, 174, 278],\n",
       "       [110, 278, 446]])"
      ]
     },
     "execution_count": 65,
     "metadata": {},
     "output_type": "execute_result"
    }
   ],
   "source": [
    "arr2_transposed = arr2.T\n",
    "\n",
    "arr1 @arr2_transposed # by transposing the arr2 matrix we can perform matrix multiplication"
   ]
  },
  {
   "cell_type": "code",
   "execution_count": 66,
   "id": "d865c85a-bb7f-434d-8459-c25c435563ba",
   "metadata": {},
   "outputs": [
    {
     "data": {
      "text/plain": [
       "array([[ 2,  4,  6,  8],\n",
       "       [10, 12, 14, 16],\n",
       "       [18, 20, 22, 24]])"
      ]
     },
     "execution_count": 66,
     "metadata": {},
     "output_type": "execute_result"
    }
   ],
   "source": [
    "# 3. Add both the matices\n",
    "arr1 + arr2"
   ]
  },
  {
   "cell_type": "code",
   "execution_count": 67,
   "id": "0a2615a2-0df3-4f2f-841e-e57f482db047",
   "metadata": {},
   "outputs": [
    {
     "data": {
      "text/plain": [
       "array([[0, 0, 0, 0],\n",
       "       [0, 0, 0, 0],\n",
       "       [0, 0, 0, 0]])"
      ]
     },
     "execution_count": 67,
     "metadata": {},
     "output_type": "execute_result"
    }
   ],
   "source": [
    "# 4. Subtact matix B from A \n",
    "arr2 - arr1"
   ]
  },
  {
   "cell_type": "code",
   "execution_count": 68,
   "id": "4d362984-1915-4f5a-af03-30b5c6904958",
   "metadata": {},
   "outputs": [
    {
     "data": {
      "text/plain": [
       "array([[1., 1., 1., 1.],\n",
       "       [1., 1., 1., 1.],\n",
       "       [1., 1., 1., 1.]])"
      ]
     },
     "execution_count": 68,
     "metadata": {},
     "output_type": "execute_result"
    }
   ],
   "source": [
    "# 5.Divide Matix B by A\n",
    "arr2 / arr1"
   ]
  },
  {
   "cell_type": "code",
   "execution_count": 69,
   "id": "170f6129-be70-4132-bed6-4db56102323b",
   "metadata": {},
   "outputs": [
    {
     "name": "stdout",
     "output_type": "stream",
     "text": [
      "Original Array:\n",
      "[1 2 3 4]\n",
      "\n",
      "Array after byte swapping:\n",
      "[16777216 33554432 50331648 67108864]\n"
     ]
    }
   ],
   "source": [
    "# 12. Which function in Numpy can be used to swap the byte order of an array?\n",
    "\n",
    "import numpy as np\n",
    "\n",
    "original_array = np.array([1, 2, 3, 4], dtype=np.int32)\n",
    "print(\"Original Array:\")\n",
    "print(original_array)\n",
    "\n",
    "# Swap the byte order\n",
    "swapped_array = original_array.byteswap()\n",
    "print(\"\\nArray after byte swapping:\")\n",
    "print(swapped_array)\n",
    " \n"
   ]
  },
  {
   "cell_type": "code",
   "execution_count": 70,
   "id": "c7b027b9-5a99-42ca-9c5f-421f269d0cc5",
   "metadata": {},
   "outputs": [
    {
     "name": "stdout",
     "output_type": "stream",
     "text": [
      "Original Matrix:\n",
      "[[2 1]\n",
      " [7 4]]\n",
      "\n",
      "Inverse Matrix:\n",
      "[[ 4. -1.]\n",
      " [-7.  2.]]\n"
     ]
    }
   ],
   "source": [
    "# 13. What is the significance of the np.linalg.inv function?\n",
    "\n",
    "# The `np.linalg.inv` function in NumPy is used to compute the (multiplicative) inverse of a square matrix. \n",
    "# In linear algebra, the inverse of a matrix A is denoted as \\(A^{-1}\\), and it has the property that when it is multiplied by the original matrix A, \n",
    "# the result is the identity matrix (\\(A \\cdot A^{-1} = A^{-1} \\cdot A = I\\), where I is the identity matrix).\n",
    "\n",
    "# Here are some key points regarding the significance of `np.linalg.inv`:\n",
    "\n",
    "# 1. **Solving Linear Systems:** One of the primary uses of matrix inversion is in solving systems of linear equations. \n",
    "# If you have a system of equations in the form \\(Ax = B\\), where A is a square matrix of coefficients, x is a column vector of variables,\n",
    "# and B is a column vector of constants, you can solve for x by finding the inverse of A: \\(x = A^{-1}B\\).\n",
    "\n",
    "# 2. **Computing Determinants:** The inverse of a matrix A exists if and only if the determinant of A is non-zero. \n",
    "# The determinant can be computed using `np.linalg.det`. Checking for a non-zero determinant is essential before attempting to compute the inverse.\n",
    "\n",
    "# 3. **Numerical Stability:** While the mathematical concept of matrix inversion is well-defined, \n",
    "# in numerical computations, especially with floating-point numbers, there can be precision issues. \n",
    "# The `np.linalg.inv` function uses efficient and numerically stable algorithms to compute the inverse.\n",
    "\n",
    "# example:\n",
    "\n",
    "import numpy as np\n",
    "\n",
    "A = np.array([[2, 1],\n",
    "              [7, 4]])\n",
    "\n",
    "A_inv = np.linalg.inv(A)\n",
    "\n",
    "print(\"Original Matrix:\")\n",
    "print(A)\n",
    "\n",
    "print(\"\\nInverse Matrix:\")\n",
    "print(A_inv)\n",
    "\n"
   ]
  },
  {
   "cell_type": "code",
   "execution_count": null,
   "id": "df31efc5-3074-4240-8fff-90c78cc33109",
   "metadata": {},
   "outputs": [],
   "source": [
    "# 14. What does the np.reshape function do, and how is it used?\n",
    "\n",
    "# The `np.reshape` function in NumPy is used to give a new shape to an array without changing its data.\n",
    "# It returns a new array with the specified shape while maintaining the same data. \n",
    "# The reshaping operation is particularly useful when you want to rearrange the elements of an array without changing their values.\n",
    "\n",
    "# The syntax for `np.reshape` is as follows:\n",
    "\n",
    "# numpy.reshape(a, newshape, order='C')\n",
    "\n",
    "\n",
    "# - `a`: The array to be reshaped.\n",
    "# - `newshape`: The new shape (tuple of integers) that you want to give to the array.\n",
    "# - `order`: (Optional) Specifies the order in which the elements are read. It can be 'C' for C-style (row-major) or 'F' for Fortran-style (column-major).\n",
    "# The default is 'C'.\n",
    "\n",
    "\n",
    "# It's important to note that the total number of elements in the original array must match the total number of elements in the reshaped array. \n",
    "# The `np.reshape` function allows you to change the arrangement of elements, but it does not change the total number of elements.\n",
    "\n",
    "# If you want to automatically infer one of the dimensions based on the size of the array, you can use `-1` in the `newshape`. \n",
    "\n",
    "# # Reshape to 3 rows and automatically infer the number of columns\n",
    "# reshaped_array = np.reshape(original_array, (3, -1))\n",
    "\n",
    "# In this case, NumPy will automatically calculate the number of columns based on the total number of elements and the specified number of rows.\n"
   ]
  },
  {
   "cell_type": "code",
   "execution_count": null,
   "id": "b2747b44-7411-4538-8c41-9e989b5b5f63",
   "metadata": {},
   "outputs": [],
   "source": [
    "# 15. What is broadcasting in Numpy?\n",
    "\n",
    "Broadcasting in NumPy is a powerful mechanism that allows for performing operations on arrays of different shapes and sizes. \n",
    "It enables you to apply element-wise operations between arrays of different shapes without the need for explicit looping or unnecessary replication of data.\n",
    "Broadcasting makes the code more concise and often more efficient.\n",
    "\n",
    "The basic idea behind broadcasting is to automatically expand the smaller array to match the shape of the larger array so that they can be combined in a meaningful way. The broadcasting rules define how these operations are carried out.\n",
    "\n",
    "The two arrays are compatible for broadcasting if, for each dimension, either the dimensions are the same or one of them is 1. The smaller array is \"broadcast\" across the larger array to make their shapes compatible.\n",
    "\n",
    "Here's a simple example to illustrate broadcasting:\n",
    "\n",
    "```python\n",
    "import numpy as np\n",
    "\n",
    "# Create a 3x3 matrix\n",
    "matrix_A = np.array([[1, 2, 3],\n",
    "                    [4, 5, 6],\n",
    "                    [7, 8, 9]])\n",
    "\n",
    "# Create a 1D array\n",
    "array_B = np.array([10, 20, 30])\n",
    "\n",
    "# Broadcasting: Add the array to each row of the matrix\n",
    "result = matrix_A + array_B\n",
    "\n",
    "print(\"Matrix A:\")\n",
    "print(matrix_A)\n",
    "\n",
    "print(\"\\nArray B:\")\n",
    "print(array_B)\n",
    "\n",
    "print(\"\\nResult after broadcasting:\")\n",
    "print(result)\n",
    "```\n",
    "\n",
    "In this example, the 1D array `array_B` is automatically broadcasted to the shape of the 3x3 matrix `matrix_A`, and then the addition operation is performed element-wise. The result is a new 3x3 matrix where each element is the sum of the corresponding elements in the original matrix and the broadcasted array.\n",
    "\n",
    "Broadcasting is not limited to binary operations; it also works with unary operations and more complex operations involving multiple arrays.\n",
    "\n",
    "Understanding broadcasting is crucial for efficient and readable NumPy code, especially when working with arrays of different shapes in scientific computing and data analysis."
   ]
  }
 ],
 "metadata": {
  "kernelspec": {
   "display_name": "Python 3 (ipykernel)",
   "language": "python",
   "name": "python3"
  },
  "language_info": {
   "codemirror_mode": {
    "name": "ipython",
    "version": 3
   },
   "file_extension": ".py",
   "mimetype": "text/x-python",
   "name": "python",
   "nbconvert_exporter": "python",
   "pygments_lexer": "ipython3",
   "version": "3.10.8"
  }
 },
 "nbformat": 4,
 "nbformat_minor": 5
}
